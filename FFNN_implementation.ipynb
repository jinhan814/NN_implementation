{
  "nbformat": 4,
  "nbformat_minor": 0,
  "metadata": {
    "colab": {
      "name": "FFNN_implementation.ipynb",
      "provenance": [],
      "collapsed_sections": []
    },
    "kernelspec": {
      "name": "python3",
      "display_name": "Python 3"
    },
    "language_info": {
      "name": "python"
    }
  },
  "cells": [
    {
      "cell_type": "code",
      "metadata": {
        "colab": {
          "base_uri": "https://localhost:8080/"
        },
        "id": "gvCV8IsSagWc",
        "outputId": "76937c88-f977-4529-d96c-680b7eb4515f"
      },
      "source": [
        "from google.colab import drive\n",
        "drive.mount('/content/drive')"
      ],
      "execution_count": 1,
      "outputs": [
        {
          "output_type": "stream",
          "text": [
            "Mounted at /content/drive\n"
          ],
          "name": "stdout"
        }
      ]
    },
    {
      "cell_type": "code",
      "metadata": {
        "id": "Eu1Jb5jpumYj"
      },
      "source": [
        "import numpy as np\n",
        "import random\n",
        "\n",
        "class Sigmoid:\n",
        "    def __call__(self, x):\n",
        "        return 1. / (1. + np.exp(-x))\n",
        "    def deriv(self, x):\n",
        "        return self(x) * (1 - self(x))\n",
        "\n",
        "class MSE:\n",
        "    def __call__(self, res, y):\n",
        "        return sum((i - j) * (i - j) for i, j in zip(res, y))\n",
        "    def deriv(self, res, y):\n",
        "        return res - y\n",
        "\n",
        "class Network:\n",
        "    def __init__(self, shape, activation_f = Sigmoid(), cost_f = MSE()):\n",
        "        self.shape = shape\n",
        "        self.w = [np.random.randn(y, x) for x, y in zip(shape[:-1], shape[1:])]\n",
        "        self.b = [np.random.randn(y, 1) for y in shape[1:]]\n",
        "        self.activation_f = activation_f\n",
        "        self.cost_f = cost_f\n",
        "    \n",
        "    def forward(self, x):\n",
        "        ret = x.reshape(-1, 1)\n",
        "        for w, b in zip(self.w, self.b):\n",
        "            ret = self.activation_f(np.dot(w, ret) + b)\n",
        "        return ret.reshape(-1)\n",
        "    \n",
        "    def backward(self, _x, _y):\n",
        "        dw = [np.zeros(w.shape) for w in self.w]\n",
        "        db = [np.zeros(b.shape) for b in self.b]\n",
        "        x, y = _x.reshape(-1, 1), _y.reshape(-1, 1)\n",
        "        a, z = [x], []\n",
        "\n",
        "        for w, b in zip(self.w, self.b):\n",
        "            x = np.dot(w, x) + b\n",
        "            z.append(x)\n",
        "            x = self.activation_f(x)\n",
        "            a.append(x)\n",
        "        \n",
        "        dz = self.cost_f.deriv(a[-1], y) * self.activation_f.deriv(z[-1])\n",
        "        dw[-1] = np.dot(dz, a[-2].transpose())\n",
        "        db[-1] = dz\n",
        "\n",
        "        for i in range(2, len(self.shape)):\n",
        "            dz = np.dot(self.w[-(i-1)].transpose(), dz) * self.activation_f.deriv(z[-i])\n",
        "            dw[-i] = np.dot(dz, a[-(i+1)].transpose())\n",
        "            db[-i] = dz\n",
        "        \n",
        "        return (dw, db)\n",
        "    \n",
        "    def update(self, batch, lr):\n",
        "        dw = [np.zeros(w.shape) for w in self.w]\n",
        "        db = [np.zeros(b.shape) for b in self.b]\n",
        "\n",
        "        for x, y in batch:\n",
        "            _dw, _db = self.backward(x, y)\n",
        "            dw = [w + _w for w, _w in zip(dw, _dw)]\n",
        "            db = [b + _b for b, _b in zip(db, _db)]\n",
        "        \n",
        "        self.w = [w - (lr / len(batch)) * _w for w, _w in zip(self.w, dw)]\n",
        "        self.b = [b - (lr / len(batch)) * _b for b, _b in zip(self.b, db)]\n",
        "    \n",
        "    def SGD(self, epochs, batch_size, lr, train_data, test_data = None):\n",
        "        for epoch in range(epochs):\n",
        "            random.shuffle(train_data)\n",
        "            batchs = [train_data[i:i+batch_size] for i in range(0, len(train_data), batch_size)]\n",
        "            for batch in batchs: self.update(batch, lr)\n",
        "            if test_data: print(f\"Epoch : {epoch}, Evaluate : {self.evaluate(test_data)} / {len(test_data)}\")\n",
        "    \n",
        "    def evaluate(self, test_data):\n",
        "        ret = sum(int(np.argmax(self.forward(x)) == np.argmax(y)) for x, y in test_data)\n",
        "        return ret"
      ],
      "execution_count": 53,
      "outputs": []
    },
    {
      "cell_type": "code",
      "metadata": {
        "id": "3vVQ5ytITzfN"
      },
      "source": [
        "data = np.loadtxt('/content/sample_data/mnist_test.csv', delimiter=',', dtype=np.int)\n",
        "\n",
        "train_data = [*data[:9000]]\n",
        "test_data = [*data[9000:]]\n",
        "\n",
        "def Conv(data, n = 10):\n",
        "    x = data[1:].astype(np.float32) / 255\n",
        "    y = np.array([int(i == data[0]) for i in range(n)]).astype(np.float32)\n",
        "    return (x, y)\n",
        "\n",
        "for i in range(len(train_data)): train_data[i] = Conv(train_data[i])\n",
        "for i in range(len(test_data)): test_data[i] = Conv(test_data[i])"
      ],
      "execution_count": 55,
      "outputs": []
    },
    {
      "cell_type": "code",
      "metadata": {
        "colab": {
          "base_uri": "https://localhost:8080/"
        },
        "id": "UUuVbaOoy2qq",
        "outputId": "e8a47105-da66-4622-9d5d-5905f2d03fd4"
      },
      "source": [
        "N = Network([784, 28, 28, 10])\n",
        "\n",
        "print(N.evaluate(test_data))\n",
        "N.SGD(30, 10, 3.0, train_data, test_data = test_data)"
      ],
      "execution_count": 54,
      "outputs": [
        {
          "output_type": "stream",
          "text": [
            "85\n",
            "Epoch : 0, Evaluate : 755 / 1000\n",
            "Epoch : 1, Evaluate : 846 / 1000\n",
            "Epoch : 2, Evaluate : 867 / 1000\n",
            "Epoch : 3, Evaluate : 854 / 1000\n",
            "Epoch : 4, Evaluate : 882 / 1000\n",
            "Epoch : 5, Evaluate : 898 / 1000\n",
            "Epoch : 6, Evaluate : 895 / 1000\n",
            "Epoch : 7, Evaluate : 890 / 1000\n",
            "Epoch : 8, Evaluate : 881 / 1000\n",
            "Epoch : 9, Evaluate : 902 / 1000\n",
            "Epoch : 10, Evaluate : 909 / 1000\n",
            "Epoch : 11, Evaluate : 910 / 1000\n",
            "Epoch : 12, Evaluate : 908 / 1000\n",
            "Epoch : 13, Evaluate : 904 / 1000\n",
            "Epoch : 14, Evaluate : 904 / 1000\n",
            "Epoch : 15, Evaluate : 900 / 1000\n",
            "Epoch : 16, Evaluate : 908 / 1000\n",
            "Epoch : 17, Evaluate : 912 / 1000\n",
            "Epoch : 18, Evaluate : 895 / 1000\n",
            "Epoch : 19, Evaluate : 903 / 1000\n",
            "Epoch : 20, Evaluate : 905 / 1000\n",
            "Epoch : 21, Evaluate : 890 / 1000\n",
            "Epoch : 22, Evaluate : 909 / 1000\n",
            "Epoch : 23, Evaluate : 906 / 1000\n",
            "Epoch : 24, Evaluate : 912 / 1000\n",
            "Epoch : 25, Evaluate : 901 / 1000\n",
            "Epoch : 26, Evaluate : 905 / 1000\n",
            "Epoch : 27, Evaluate : 905 / 1000\n",
            "Epoch : 28, Evaluate : 908 / 1000\n",
            "Epoch : 29, Evaluate : 911 / 1000\n"
          ],
          "name": "stdout"
        }
      ]
    },
    {
      "cell_type": "code",
      "metadata": {
        "id": "1ydQeQ2YmZMv"
      },
      "source": [
        ""
      ],
      "execution_count": null,
      "outputs": []
    }
  ]
}